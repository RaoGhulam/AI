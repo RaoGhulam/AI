{
 "cells": [
  {
   "cell_type": "code",
   "execution_count": 1,
   "id": "cfd6b217",
   "metadata": {},
   "outputs": [],
   "source": [
    "import pandas as pd\n",
    "from sklearn.tree import DecisionTreeClassifier\n",
    "from sklearn.model_selection import train_test_split\n",
    "from sklearn.metrics import accuracy_score, classification_report\n",
    "from sklearn.preprocessing import LabelEncoder"
   ]
  },
  {
   "cell_type": "code",
   "execution_count": 2,
   "id": "a6d5863a",
   "metadata": {},
   "outputs": [],
   "source": [
    "df = pd.read_csv('E:\\OOP\\AI_Lab\\Lab9\\synthetic_email_spam_dataset.csv')\n",
    "encoder = LabelEncoder()\n",
    "\n",
    "df['sender_domain'] = encoder.fit_transform(df['sender_domain'])\n",
    "\n",
    "features = [\n",
    "            'word_freq_free',\n",
    "            'word_freq_win',\n",
    "            'word_freq_offer',\n",
    "            'email_length',\n",
    "            'num_hyperlinks',\n",
    "            'sender_domain'\n",
    "        ]\n",
    "        \n",
    "X = df[features]\n",
    "y = df['is_spam']"
   ]
  },
  {
   "cell_type": "code",
   "execution_count": 3,
   "id": "b4d8389e",
   "metadata": {},
   "outputs": [],
   "source": [
    "X_train, X_test, y_train, y_test = train_test_split(X, y, test_size=0.2, random_state=42)"
   ]
  },
  {
   "cell_type": "code",
   "execution_count": 4,
   "id": "33d7c7dc",
   "metadata": {},
   "outputs": [],
   "source": [
    "model = DecisionTreeClassifier(max_depth=5, random_state=42)\n",
    "model.fit(X_train, y_train)\n",
    "y_predict = model.predict(X_test)"
   ]
  },
  {
   "cell_type": "code",
   "execution_count": 5,
   "id": "9f5a72d9",
   "metadata": {},
   "outputs": [
    {
     "name": "stdout",
     "output_type": "stream",
     "text": [
      "0.7\n",
      "              precision    recall  f1-score   support\n",
      "\n",
      "           0       0.73      0.84      0.78        19\n",
      "           1       0.62      0.45      0.53        11\n",
      "\n",
      "    accuracy                           0.70        30\n",
      "   macro avg       0.68      0.65      0.65        30\n",
      "weighted avg       0.69      0.70      0.69        30\n",
      "\n"
     ]
    }
   ],
   "source": [
    "acc_scr = accuracy_score(y_test, y_predict)\n",
    "report = classification_report(y_test, y_predict)\n",
    "print(acc_scr)\n",
    "print(report)"
   ]
  },
  {
   "cell_type": "code",
   "execution_count": 6,
   "id": "cf308de0",
   "metadata": {},
   "outputs": [],
   "source": [
    "new_email = {\n",
    "        'word_freq_free': 0.15,\n",
    "        'word_freq_win': 0.05,\n",
    "        'word_freq_offer': 0.10,\n",
    "        'email_length': 1200,\n",
    "        'num_hyperlinks': 3,\n",
    "        'sender_domain': \"example.com\"\n",
    "    }\n",
    "\n",
    "new_data = pd.DataFrame([new_email])\n",
    "\n",
    "new_data['sender_domain'] = encoder.fit_transform(new_data['sender_domain'])\n",
    "\n",
    "X_new = new_data[features]"
   ]
  },
  {
   "cell_type": "code",
   "execution_count": 7,
   "id": "8d72466b",
   "metadata": {},
   "outputs": [
    {
     "data": {
      "text/plain": [
       "0"
      ]
     },
     "execution_count": 7,
     "metadata": {},
     "output_type": "execute_result"
    }
   ],
   "source": [
    "prediction = model.predict(X_new)\n",
    "prediction[0]"
   ]
  }
 ],
 "metadata": {
  "kernelspec": {
   "display_name": "Python 3",
   "language": "python",
   "name": "python3"
  },
  "language_info": {
   "codemirror_mode": {
    "name": "ipython",
    "version": 3
   },
   "file_extension": ".py",
   "mimetype": "text/x-python",
   "name": "python",
   "nbconvert_exporter": "python",
   "pygments_lexer": "ipython3",
   "version": "3.11.3"
  }
 },
 "nbformat": 4,
 "nbformat_minor": 5
}
